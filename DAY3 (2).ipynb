{
 "cells": [
  {
   "cell_type": "code",
   "execution_count": 1,
   "id": "6489dc30-96f7-43ba-b276-50e4160d3de9",
   "metadata": {},
   "outputs": [],
   "source": [
    "with open(\"output.txt\", \"w\") as file: \n",
    "    file.write(\"Rayhanah Mohamed\")"
   ]
  },
  {
   "cell_type": "code",
   "execution_count": 3,
   "id": "10712cbb-6b94-4092-baaa-8de1fd60f818",
   "metadata": {},
   "outputs": [],
   "source": [
    "l1=[\"rayhanah \\n\", 'mona\\n', 'noha\\n'] \n",
    "with open(\"output.txt\",\"w\") as file: \n",
    "    file.writelines(l1)"
   ]
  },
  {
   "cell_type": "code",
   "execution_count": 4,
   "id": "676ee068-fe47-4ab5-94b0-38b7be86d2b6",
   "metadata": {},
   "outputs": [],
   "source": [
    "with open('output.txt', 'a') as file:\n",
    "    file.write(\"Rayhanah Mohamed\")"
   ]
  },
  {
   "cell_type": "code",
   "execution_count": 6,
   "id": "c5a4a9aa-a102-4e1b-a3b2-a4eb3dbd200f",
   "metadata": {},
   "outputs": [
    {
     "name": "stdout",
     "output_type": "stream",
     "text": [
      "rayhanah \n",
      "mona\n",
      "noha\n",
      "Rayhanah Mohamed\n"
     ]
    },
    {
     "data": {
      "text/plain": [
       "str"
      ]
     },
     "execution_count": 6,
     "metadata": {},
     "output_type": "execute_result"
    }
   ],
   "source": [
    "with open(\"output.txt\",\"r\") as  file:\n",
    "    content=file.read()\n",
    "    print(content)\n",
    "type(content)"
   ]
  },
  {
   "cell_type": "code",
   "execution_count": 9,
   "id": "9f43b1e3-97b3-4e72-be28-607506566d08",
   "metadata": {},
   "outputs": [
    {
     "name": "stdout",
     "output_type": "stream",
     "text": [
      "['rayhanah \\n', 'mona\\n', 'noha\\n', 'Rayhanah Mohamed']\n"
     ]
    },
    {
     "data": {
      "text/plain": [
       "list"
      ]
     },
     "execution_count": 9,
     "metadata": {},
     "output_type": "execute_result"
    }
   ],
   "source": [
    "with open(\"output.txt\",\"r\") as  file:\n",
    "    content=file.readlines()\n",
    "    print(content)\n",
    "type(content)"
   ]
  },
  {
   "cell_type": "code",
   "execution_count": 11,
   "id": "d4325379-7e8b-4239-b48b-f62440d45f32",
   "metadata": {},
   "outputs": [
    {
     "data": {
      "text/plain": [
       "'mona\\n'"
      ]
     },
     "execution_count": 11,
     "metadata": {},
     "output_type": "execute_result"
    }
   ],
   "source": [
    "content[1]"
   ]
  },
  {
   "cell_type": "code",
   "execution_count": 13,
   "id": "63437773-4f2f-46e4-b4f9-364c3d226526",
   "metadata": {},
   "outputs": [
    {
     "name": "stdout",
     "output_type": "stream",
     "text": [
      "['rayhanah \\n', 'mona\\n', 'noha\\n', 'Rayhanah Mohamed']\n"
     ]
    },
    {
     "data": {
      "text/plain": [
       "list"
      ]
     },
     "execution_count": 13,
     "metadata": {},
     "output_type": "execute_result"
    }
   ],
   "source": [
    "with open(\"output.txt\",\"r\") as  file:\n",
    "    content=file.readlines()\n",
    "    print(content)\n",
    "type(content)"
   ]
  },
  {
   "cell_type": "code",
   "execution_count": null,
   "id": "6ffbeda3-8576-42b6-b802-07e909afe44a",
   "metadata": {},
   "outputs": [],
   "source": [
    "#النهاية"
   ]
  }
 ],
 "metadata": {
  "kernelspec": {
   "display_name": "Python [conda env:base] *",
   "language": "python",
   "name": "conda-base-py"
  },
  "language_info": {
   "codemirror_mode": {
    "name": "ipython",
    "version": 3
   },
   "file_extension": ".py",
   "mimetype": "text/x-python",
   "name": "python",
   "nbconvert_exporter": "python",
   "pygments_lexer": "ipython3",
   "version": "3.12.7"
  }
 },
 "nbformat": 4,
 "nbformat_minor": 5
}
