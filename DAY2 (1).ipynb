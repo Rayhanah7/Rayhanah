{
 "cells": [
  {
   "cell_type": "markdown",
   "id": "8309094b-4b56-40dd-8fae-d93ade61f727",
   "metadata": {},
   "source": [
    "DAY2 list"
   ]
  },
  {
   "cell_type": "code",
   "execution_count": 6,
   "id": "83eb2d6c-878f-465e-b754-e94da4de2b2f",
   "metadata": {},
   "outputs": [],
   "source": [
    "#\n",
    "RR =[1,2,3,4,5,6,7,8,9,10,11]\n"
   ]
  },
  {
   "cell_type": "code",
   "execution_count": 8,
   "id": "8080d0a2-64cf-42b9-956e-e2ea4bf6c767",
   "metadata": {},
   "outputs": [
    {
     "data": {
      "text/plain": [
       "3"
      ]
     },
     "execution_count": 8,
     "metadata": {},
     "output_type": "execute_result"
    }
   ],
   "source": [
    "RR[2]"
   ]
  },
  {
   "cell_type": "code",
   "execution_count": 10,
   "id": "121b7f80-4e94-4a6d-b3f7-317ae3a00974",
   "metadata": {},
   "outputs": [
    {
     "data": {
      "text/plain": [
       "1"
      ]
     },
     "execution_count": 10,
     "metadata": {},
     "output_type": "execute_result"
    }
   ],
   "source": [
    "RR[0]"
   ]
  },
  {
   "cell_type": "code",
   "execution_count": 12,
   "id": "7ddd3d98-8826-4555-9595-84725f9e7bbc",
   "metadata": {},
   "outputs": [
    {
     "data": {
      "text/plain": [
       "[1, 2, 3, 4, 5, 6, 7, 8, 9, 10, 11]"
      ]
     },
     "execution_count": 12,
     "metadata": {},
     "output_type": "execute_result"
    }
   ],
   "source": [
    "RR"
   ]
  },
  {
   "cell_type": "code",
   "execution_count": 14,
   "id": "911a4dd2-55f2-4b71-91ee-58ca79e8bd55",
   "metadata": {},
   "outputs": [
    {
     "data": {
      "text/plain": [
       "[6, 7, 8, 9, 10, 11]"
      ]
     },
     "execution_count": 14,
     "metadata": {},
     "output_type": "execute_result"
    }
   ],
   "source": [
    "RR[5:]"
   ]
  },
  {
   "cell_type": "code",
   "execution_count": 5,
   "id": "1143dee8-c584-4782-92b3-061839168b0d",
   "metadata": {},
   "outputs": [
    {
     "data": {
      "text/plain": [
       "[2, 3, 4, 5, 6, 7, 8, 9, 10, 11]"
      ]
     },
     "execution_count": 5,
     "metadata": {},
     "output_type": "execute_result"
    }
   ],
   "source": [
    "RR=list(range(2,12))\n",
    "RR"
   ]
  },
  {
   "cell_type": "code",
   "execution_count": 15,
   "id": "8720a19c-179e-433a-b1da-87274d43beda",
   "metadata": {},
   "outputs": [
    {
     "data": {
      "text/plain": [
       "[1, 2, 3]"
      ]
     },
     "execution_count": 15,
     "metadata": {},
     "output_type": "execute_result"
    }
   ],
   "source": [
    "mylist=list([1,2,3])\n",
    "mylist"
   ]
  },
  {
   "cell_type": "code",
   "execution_count": 17,
   "id": "cf693be9-bf68-4e70-a4a5-5db0d6db04a1",
   "metadata": {},
   "outputs": [],
   "source": [
    "mylist.remove(2)"
   ]
  },
  {
   "cell_type": "code",
   "execution_count": 19,
   "id": "4d0ce940-0054-4127-98b4-6e12c2a0f297",
   "metadata": {},
   "outputs": [
    {
     "data": {
      "text/plain": [
       "[1, 3]"
      ]
     },
     "execution_count": 19,
     "metadata": {},
     "output_type": "execute_result"
    }
   ],
   "source": [
    "mylist"
   ]
  },
  {
   "cell_type": "code",
   "execution_count": 44,
   "id": "92bf6155-a436-4c48-ad75-158e4423b8e1",
   "metadata": {},
   "outputs": [
    {
     "data": {
      "text/plain": [
       "[2, 3, 4, 5, 6, 7, 8, 9, 10, 11, 12]"
      ]
     },
     "execution_count": 44,
     "metadata": {},
     "output_type": "execute_result"
    }
   ],
   "source": [
    "RR.append(12)\n",
    "RR"
   ]
  },
  {
   "cell_type": "code",
   "execution_count": 46,
   "id": "ce0beed3-6bda-47ce-950a-8acf21022bf4",
   "metadata": {},
   "outputs": [
    {
     "data": {
      "text/plain": [
       "[2, 3, 4, 5, 6, 7, 8, 9, 10, 11]"
      ]
     },
     "execution_count": 46,
     "metadata": {},
     "output_type": "execute_result"
    }
   ],
   "source": [
    "RR.remove(12)\n",
    "RR"
   ]
  },
  {
   "cell_type": "code",
   "execution_count": 48,
   "id": "a520449b-b5ab-4abc-9a24-d7fd7e925f84",
   "metadata": {},
   "outputs": [],
   "source": [
    "name=[\"Rana\" ,\"Mona\" ,\"Sara\"]"
   ]
  },
  {
   "cell_type": "code",
   "execution_count": 50,
   "id": "2eac7212-a03b-4b4f-b931-7e224fc17871",
   "metadata": {},
   "outputs": [
    {
     "data": {
      "text/plain": [
       "['Rana', 'Mona', 'Sara']"
      ]
     },
     "execution_count": 50,
     "metadata": {},
     "output_type": "execute_result"
    }
   ],
   "source": [
    "name"
   ]
  },
  {
   "cell_type": "code",
   "execution_count": 52,
   "id": "e2d315da-749a-4e6c-99f4-ff5b56c59c77",
   "metadata": {},
   "outputs": [],
   "source": [
    "name[0]=\"Rayhanah\""
   ]
  },
  {
   "cell_type": "code",
   "execution_count": 54,
   "id": "3b2ebd4f-7641-46c1-99e7-5d58c24832a6",
   "metadata": {},
   "outputs": [
    {
     "data": {
      "text/plain": [
       "['Rayhanah', 'Mona', 'Sara']"
      ]
     },
     "execution_count": 54,
     "metadata": {},
     "output_type": "execute_result"
    }
   ],
   "source": [
    "name"
   ]
  },
  {
   "cell_type": "raw",
   "id": "f68ed06e-4bfe-4c38-b84f-37fc247c95b1",
   "metadata": {},
   "source": [
    "dictionary "
   ]
  },
  {
   "cell_type": "code",
   "execution_count": 32,
   "id": "cdb3bfd4-75ba-428d-92c6-e80670ae8214",
   "metadata": {},
   "outputs": [
    {
     "data": {
      "text/plain": [
       "{'name': 'rayhanah', 'age': 23}"
      ]
     },
     "execution_count": 32,
     "metadata": {},
     "output_type": "execute_result"
    }
   ],
   "source": [
    "my_dic={\"name\": \"rayhanah\",\"age\":23}\n",
    "my_dic"
   ]
  },
  {
   "cell_type": "code",
   "execution_count": 34,
   "id": "0f8061aa-48a4-4408-8fe7-a636b205c47e",
   "metadata": {},
   "outputs": [
    {
     "data": {
      "text/plain": [
       "'rayhanah'"
      ]
     },
     "execution_count": 34,
     "metadata": {},
     "output_type": "execute_result"
    }
   ],
   "source": [
    "name=my_dic[\"name\"]\n",
    "name"
   ]
  },
  {
   "cell_type": "code",
   "execution_count": 36,
   "id": "d6e5eb82-d9a8-4d3c-8c7e-56a514df4237",
   "metadata": {},
   "outputs": [
    {
     "data": {
      "text/plain": [
       "{'name': 'Turkih', 'age': 23}"
      ]
     },
     "execution_count": 36,
     "metadata": {},
     "output_type": "execute_result"
    }
   ],
   "source": [
    "my_dic[\"name\"]=\"Turkih\"\n",
    "my_dic"
   ]
  },
  {
   "cell_type": "code",
   "execution_count": 38,
   "id": "89add016-5506-44ad-81a8-9d0d11abc54e",
   "metadata": {},
   "outputs": [
    {
     "data": {
      "text/plain": [
       "{'name': 'Turkih', 'age': 63}"
      ]
     },
     "execution_count": 38,
     "metadata": {},
     "output_type": "execute_result"
    }
   ],
   "source": [
    "my_dic[\"age\"]= 63\n",
    "my_dic"
   ]
  },
  {
   "cell_type": "code",
   "execution_count": 40,
   "id": "3f7e3207-3ce7-4fad-ab26-2467e35395f1",
   "metadata": {},
   "outputs": [
    {
     "data": {
      "text/plain": [
       "{'name': 'Turkih', 'age': 63}"
      ]
     },
     "execution_count": 40,
     "metadata": {},
     "output_type": "execute_result"
    }
   ],
   "source": [
    "my_dic"
   ]
  },
  {
   "cell_type": "code",
   "execution_count": 42,
   "id": "538ba74c-b49b-4a1e-b203-49a4f39ac95d",
   "metadata": {},
   "outputs": [
    {
     "data": {
      "text/plain": [
       "dict_values(['Turkih', 63])"
      ]
     },
     "execution_count": 42,
     "metadata": {},
     "output_type": "execute_result"
    }
   ],
   "source": [
    "my_dic.values()"
   ]
  },
  {
   "cell_type": "code",
   "execution_count": 56,
   "id": "e13ef2a6-c524-421c-8a36-0a659ea117e8",
   "metadata": {},
   "outputs": [
    {
     "data": {
      "text/plain": [
       "dict_keys(['name', 'age'])"
      ]
     },
     "execution_count": 56,
     "metadata": {},
     "output_type": "execute_result"
    }
   ],
   "source": [
    "my_dic.keys()"
   ]
  },
  {
   "cell_type": "code",
   "execution_count": 58,
   "id": "b15d88fd-603c-43f3-8ed6-3b440630c6d2",
   "metadata": {},
   "outputs": [
    {
     "data": {
      "text/plain": [
       "dict_items([('name', 'Turkih'), ('age', 63)])"
      ]
     },
     "execution_count": 58,
     "metadata": {},
     "output_type": "execute_result"
    }
   ],
   "source": [
    "my_dic.items()"
   ]
  },
  {
   "cell_type": "code",
   "execution_count": 74,
   "id": "d85cf267-c12e-411e-b1a2-db08762c24bc",
   "metadata": {},
   "outputs": [
    {
     "data": {
      "text/plain": [
       "{'name': 'Turkih', 'city': 'DUBA', 'age': 63}"
      ]
     },
     "execution_count": 74,
     "metadata": {},
     "output_type": "execute_result"
    }
   ],
   "source": [
    "my_dic[\"city\"]=\"DUBA\"\n",
    "my_dic"
   ]
  },
  {
   "cell_type": "code",
   "execution_count": 76,
   "id": "cb42a17f-b768-4eeb-8f31-80b86f1dac00",
   "metadata": {},
   "outputs": [
    {
     "data": {
      "text/plain": [
       "{'name': 'Turkih', 'city': 'DUBA'}"
      ]
     },
     "execution_count": 76,
     "metadata": {},
     "output_type": "execute_result"
    }
   ],
   "source": [
    "del my_dic[\"age\"]\n",
    "my_dic"
   ]
  },
  {
   "cell_type": "code",
   "execution_count": 60,
   "id": "768243de-250d-4802-931e-89bb70e97272",
   "metadata": {},
   "outputs": [],
   "source": [
    "my_dic2={\"names\":[\"Rana\" ,\"Mona\" ,\"Sara\"]}"
   ]
  },
  {
   "cell_type": "code",
   "execution_count": 62,
   "id": "ed655c27-9bd5-4987-8712-f00b91c433e5",
   "metadata": {},
   "outputs": [],
   "source": [
    "my_dic2[\"ages\"]=[20,21,22]"
   ]
  },
  {
   "cell_type": "code",
   "execution_count": 64,
   "id": "f93a0186-2781-4d52-8dcb-d42fd1beafe8",
   "metadata": {},
   "outputs": [
    {
     "data": {
      "text/plain": [
       "{'names': ['Rana', 'Mona', 'Sara'], 'ages': [20, 21, 22]}"
      ]
     },
     "execution_count": 64,
     "metadata": {},
     "output_type": "execute_result"
    }
   ],
   "source": [
    "my_dic2"
   ]
  },
  {
   "cell_type": "markdown",
   "id": "c2dd8f0b-67e5-4d08-aa93-ca61aa32bfe6",
   "metadata": {},
   "source": [
    "tuple "
   ]
  },
  {
   "cell_type": "code",
   "execution_count": 77,
   "id": "ac1ca7ca-829c-4955-8157-99967243e787",
   "metadata": {},
   "outputs": [
    {
     "data": {
      "text/plain": [
       "(1, 2, 3, 4, '5')"
      ]
     },
     "execution_count": 77,
     "metadata": {},
     "output_type": "execute_result"
    }
   ],
   "source": [
    "my_t=(1,2,3,4,\"5\")\n",
    "my_t"
   ]
  },
  {
   "cell_type": "code",
   "execution_count": 79,
   "id": "d64f6840-d39d-4cab-9834-620e86691f34",
   "metadata": {},
   "outputs": [
    {
     "data": {
      "text/plain": [
       "2"
      ]
     },
     "execution_count": 79,
     "metadata": {},
     "output_type": "execute_result"
    }
   ],
   "source": [
    "my_t[1]"
   ]
  },
  {
   "cell_type": "code",
   "execution_count": 83,
   "id": "156282f8-7e6c-48a5-adfc-423877da74b3",
   "metadata": {},
   "outputs": [],
   "source": [
    "my_l =list(my_t)"
   ]
  },
  {
   "cell_type": "code",
   "execution_count": 85,
   "id": "a868cb47-fc34-4d89-afb4-4153c9018372",
   "metadata": {},
   "outputs": [
    {
     "data": {
      "text/plain": [
       "[1, 2, 3, 4, '5']"
      ]
     },
     "execution_count": 85,
     "metadata": {},
     "output_type": "execute_result"
    }
   ],
   "source": [
    "my_l"
   ]
  },
  {
   "cell_type": "code",
   "execution_count": 87,
   "id": "7c0cf95d-b538-4559-b6bd-0dcc61a0e1d2",
   "metadata": {},
   "outputs": [],
   "source": [
    "my_l[1]=10"
   ]
  },
  {
   "cell_type": "code",
   "execution_count": 89,
   "id": "86225f5b-5cd3-4416-846b-bd1872d0e1ae",
   "metadata": {},
   "outputs": [
    {
     "data": {
      "text/plain": [
       "[1, 10, 3, 4, '5']"
      ]
     },
     "execution_count": 89,
     "metadata": {},
     "output_type": "execute_result"
    }
   ],
   "source": [
    "my_l"
   ]
  },
  {
   "cell_type": "code",
   "execution_count": 91,
   "id": "0922d1e6-2b69-4938-8ffc-f6990d91a2fe",
   "metadata": {},
   "outputs": [],
   "source": [
    "my_t=tuple(my_l)"
   ]
  },
  {
   "cell_type": "code",
   "execution_count": 93,
   "id": "8497814d-a78c-470b-a20c-d4ae462950ac",
   "metadata": {},
   "outputs": [
    {
     "data": {
      "text/plain": [
       "(1, 10, 3, 4, '5')"
      ]
     },
     "execution_count": 93,
     "metadata": {},
     "output_type": "execute_result"
    }
   ],
   "source": [
    "my_t"
   ]
  },
  {
   "cell_type": "code",
   "execution_count": 95,
   "id": "0d53c96f-4189-4ea8-b34d-8b235fd6d097",
   "metadata": {},
   "outputs": [
    {
     "data": {
      "text/plain": [
       "set"
      ]
     },
     "execution_count": 95,
     "metadata": {},
     "output_type": "execute_result"
    }
   ],
   "source": [
    "my_set={1,2,3,4}\n",
    "type(my_set)"
   ]
  },
  {
   "cell_type": "code",
   "execution_count": 25,
   "id": "1582eaaf-b4c8-483f-bbc6-2a076bf03eab",
   "metadata": {},
   "outputs": [
    {
     "data": {
      "text/plain": [
       "{1, 2, 3, 4}"
      ]
     },
     "execution_count": 25,
     "metadata": {},
     "output_type": "execute_result"
    }
   ],
   "source": [
    "my_set={1,2,3,4}\n",
    "my_set"
   ]
  },
  {
   "cell_type": "code",
   "execution_count": 29,
   "id": "f1e75968-4e5d-4543-a63c-b5d26d5dddf3",
   "metadata": {},
   "outputs": [
    {
     "data": {
      "text/plain": [
       "{1, 2, 3, 4, 5}"
      ]
     },
     "execution_count": 29,
     "metadata": {},
     "output_type": "execute_result"
    }
   ],
   "source": [
    "my_set.add(5)\n",
    "my_set"
   ]
  },
  {
   "cell_type": "code",
   "execution_count": 33,
   "id": "0980b640-54a3-4462-81f9-33c12a622c34",
   "metadata": {},
   "outputs": [
    {
     "data": {
      "text/plain": [
       "{1, 2, 3, 4, 5, 6, 7, 8}"
      ]
     },
     "execution_count": 33,
     "metadata": {},
     "output_type": "execute_result"
    }
   ],
   "source": [
    "my_set.update ([6,7,8])\n",
    "my_set"
   ]
  },
  {
   "cell_type": "code",
   "execution_count": 37,
   "id": "43afa0d8-fcf1-4b91-afc9-7f3390dca5b9",
   "metadata": {},
   "outputs": [
    {
     "data": {
      "text/plain": [
       "{1, 2, 3, 4, 5, 6, 7, 8}"
      ]
     },
     "execution_count": 37,
     "metadata": {},
     "output_type": "execute_result"
    }
   ],
   "source": [
    "my_set.update ([7,7,7])\n",
    "my_set"
   ]
  },
  {
   "cell_type": "code",
   "execution_count": 39,
   "id": "374e39a0-5e99-40f0-874b-95066e43f0cd",
   "metadata": {},
   "outputs": [
    {
     "data": {
      "text/plain": [
       "{1, 2, 4, 5, 6, 7, 8}"
      ]
     },
     "execution_count": 39,
     "metadata": {},
     "output_type": "execute_result"
    }
   ],
   "source": [
    "my_set.remove(3)\n",
    "my_set"
   ]
  },
  {
   "cell_type": "code",
   "execution_count": 41,
   "id": "a1b7f201-128e-4fb2-b2dd-4c701bac4e55",
   "metadata": {},
   "outputs": [
    {
     "data": {
      "text/plain": [
       "{1, 2, 5, 6, 7, 8}"
      ]
     },
     "execution_count": 41,
     "metadata": {},
     "output_type": "execute_result"
    }
   ],
   "source": [
    "my_set.discard(4) \n",
    "my_set"
   ]
  },
  {
   "cell_type": "code",
   "execution_count": 43,
   "id": "6b73baae-8525-4ef8-943b-1b11ecde5f6f",
   "metadata": {},
   "outputs": [
    {
     "data": {
      "text/plain": [
       "{1, 2, 5, 6, 7, 8}"
      ]
     },
     "execution_count": 43,
     "metadata": {},
     "output_type": "execute_result"
    }
   ],
   "source": [
    "my_set.discard(0) \n",
    "my_set"
   ]
  },
  {
   "cell_type": "code",
   "execution_count": 101,
   "id": "57b56e5d-0671-4750-b0c9-5fcbe7f35a95",
   "metadata": {},
   "outputs": [],
   "source": [
    "set1 = {1, 2, 3}\n",
    "set2= {3, 4, 5}"
   ]
  },
  {
   "cell_type": "code",
   "execution_count": 103,
   "id": "fe4b5888-1060-4bf1-87a7-706eb36f55a9",
   "metadata": {},
   "outputs": [
    {
     "data": {
      "text/plain": [
       "{1, 2, 3, 4, 5}"
      ]
     },
     "execution_count": 103,
     "metadata": {},
     "output_type": "execute_result"
    }
   ],
   "source": [
    "union_set = set1 | set2\n",
    "union_set"
   ]
  },
  {
   "cell_type": "code",
   "execution_count": 105,
   "id": "e2910764-794d-4cd7-88bd-88b95777abeb",
   "metadata": {},
   "outputs": [
    {
     "data": {
      "text/plain": [
       "{3}"
      ]
     },
     "execution_count": 105,
     "metadata": {},
     "output_type": "execute_result"
    }
   ],
   "source": [
    "intersection_set = set1 & set2 \n",
    "intersection_set"
   ]
  },
  {
   "cell_type": "code",
   "execution_count": 107,
   "id": "0af7f295-6ab9-4a11-a174-7b3887542578",
   "metadata": {},
   "outputs": [
    {
     "data": {
      "text/plain": [
       "{1, 2}"
      ]
     },
     "execution_count": 107,
     "metadata": {},
     "output_type": "execute_result"
    }
   ],
   "source": [
    "difference_set = set1-set2 \n",
    "difference_set"
   ]
  },
  {
   "cell_type": "code",
   "execution_count": 109,
   "id": "93903c5b-0b07-4e3a-8f39-f1db5063ca22",
   "metadata": {},
   "outputs": [
    {
     "data": {
      "text/plain": [
       "{1, 2}"
      ]
     },
     "execution_count": 109,
     "metadata": {},
     "output_type": "execute_result"
    }
   ],
   "source": [
    "set1-set2"
   ]
  },
  {
   "cell_type": "code",
   "execution_count": 113,
   "id": "f5f3a183-0368-4795-bd5d-49e077fd030e",
   "metadata": {},
   "outputs": [
    {
     "data": {
      "text/plain": [
       "{4, 5}"
      ]
     },
     "execution_count": 113,
     "metadata": {},
     "output_type": "execute_result"
    }
   ],
   "source": [
    "set2-set1"
   ]
  },
  {
   "cell_type": "code",
   "execution_count": 115,
   "id": "473faeb0-6bf2-4556-b4d9-a7214c7792aa",
   "metadata": {},
   "outputs": [],
   "source": [
    "Rl=[10,20,10]"
   ]
  },
  {
   "cell_type": "code",
   "execution_count": 117,
   "id": "7cd21deb-cbbe-45aa-b739-04a4e19b1a37",
   "metadata": {},
   "outputs": [
    {
     "data": {
      "text/plain": [
       "40"
      ]
     },
     "execution_count": 117,
     "metadata": {},
     "output_type": "execute_result"
    }
   ],
   "source": [
    "sum(Rl)"
   ]
  },
  {
   "cell_type": "code",
   "execution_count": 119,
   "id": "0b0a52c8-9168-46bd-8852-d37cc33335ae",
   "metadata": {},
   "outputs": [
    {
     "data": {
      "text/plain": [
       "20"
      ]
     },
     "execution_count": 119,
     "metadata": {},
     "output_type": "execute_result"
    }
   ],
   "source": [
    "max(Rl)"
   ]
  },
  {
   "cell_type": "code",
   "execution_count": 121,
   "id": "fb3bdd56-c285-445c-b05a-cd6529e6cfb4",
   "metadata": {},
   "outputs": [
    {
     "data": {
      "text/plain": [
       "10"
      ]
     },
     "execution_count": 121,
     "metadata": {},
     "output_type": "execute_result"
    }
   ],
   "source": [
    "min(Rl)"
   ]
  },
  {
   "cell_type": "code",
   "execution_count": 127,
   "id": "938c0bd3-deae-460f-a872-b5e35c0d9657",
   "metadata": {},
   "outputs": [
    {
     "data": {
      "text/plain": [
       "[10, 20, 10]"
      ]
     },
     "execution_count": 127,
     "metadata": {},
     "output_type": "execute_result"
    }
   ],
   "source": [
    "Rl"
   ]
  },
  {
   "cell_type": "code",
   "execution_count": 133,
   "id": "38a63fd7-c64a-470d-8649-eadb0b1c9d76",
   "metadata": {},
   "outputs": [
    {
     "data": {
      "text/plain": [
       "4"
      ]
     },
     "execution_count": 133,
     "metadata": {},
     "output_type": "execute_result"
    }
   ],
   "source": [
    "l2=[1,2,1,1,1]\n",
    "l2.count(1)"
   ]
  },
  {
   "cell_type": "code",
   "execution_count": 111,
   "id": "9fbbe554-3fe3-4283-b4d0-94585d083dac",
   "metadata": {},
   "outputs": [
    {
     "name": "stdout",
     "output_type": "stream",
     "text": [
      "Sum of numbers: 15\n"
     ]
    }
   ],
   "source": [
    "def sum_of_list(numbers):\n",
    "    return sum(numbers)\n",
    "\n",
    "# Example usage\n",
    "numbers = [1, 2, 3, 4, 5]\n",
    "print(\"Sum of numbers:\", sum_of_list(numbers))\n"
   ]
  },
  {
   "cell_type": "code",
   "execution_count": 80,
   "id": "1b4062f4-3638-4ee0-8e50-0a3176ed3a8a",
   "metadata": {},
   "outputs": [
    {
     "name": "stdout",
     "output_type": "stream",
     "text": [
      "Maximum number: 79\n",
      "Minimum number: 2\n"
     ]
    }
   ],
   "source": [
    "def find_max_min(numbers):\n",
    "    return max(numbers), min(numbers)\n",
    "\n",
    "# Example usage\n",
    "numbers = [10, 25, 3, 79, 45, 2]\n",
    "maximum, minimum = find_max_min(numbers)\n",
    "\n",
    "print(\"Maximum number:\", maximum)\n",
    "print(\"Minimum number:\", minimum)\n"
   ]
  },
  {
   "cell_type": "code",
   "execution_count": 82,
   "id": "92ad0a61-6fb0-4ffe-a307-04164a18297f",
   "metadata": {},
   "outputs": [
    {
     "name": "stdout",
     "output_type": "stream",
     "text": [
      "Number 1 appears 3 times\n",
      "Number 2 appears 3 times\n",
      "Number 3 appears 2 times\n",
      "Number 4 appears 3 times\n",
      "Number 5 appears 1 times\n"
     ]
    }
   ],
   "source": [
    "from collections import Counter\n",
    "\n",
    "def count_occurrences(numbers):\n",
    "    return Counter(numbers)\n",
    "\n",
    "# Example usage\n",
    "numbers = [1, 2, 3, 2, 4, 1, 5, 1, 2, 3, 4, 4]\n",
    "occurrences = count_occurrences(numbers)\n",
    "\n",
    "# Displaying the counts\n",
    "for num, count in occurrences.items():\n",
    "    print(f\"Number {num} appears {count} times\")\n"
   ]
  },
  {
   "cell_type": "code",
   "execution_count": 89,
   "id": "80969052-08e3-40aa-87c7-d33fafeb2451",
   "metadata": {},
   "outputs": [
    {
     "name": "stdout",
     "output_type": "stream",
     "text": [
      "Even numbers: [2, 4, 6, 8, 10]\n"
     ]
    }
   ],
   "source": [
    "def find_even_numbers(numbers):\n",
    "    return [num for num in numbers if num % 2 == 0]\n",
    "\n",
    "# Example usage\n",
    "numbers = [1, 2, 3, 4, 5, 6, 7, 8, 9, 10]\n",
    "even_numbers = find_even_numbers(numbers)\n",
    "\n",
    "print(\"Even numbers:\", even_numbers)\n"
   ]
  },
  {
   "cell_type": "code",
   "execution_count": null,
   "id": "c7917ebd-ddc2-42bb-9158-55263a0d4295",
   "metadata": {},
   "outputs": [],
   "source": [
    "#النهاية"
   ]
  }
 ],
 "metadata": {
  "kernelspec": {
   "display_name": "Python [conda env:base] *",
   "language": "python",
   "name": "conda-base-py"
  },
  "language_info": {
   "codemirror_mode": {
    "name": "ipython",
    "version": 3
   },
   "file_extension": ".py",
   "mimetype": "text/x-python",
   "name": "python",
   "nbconvert_exporter": "python",
   "pygments_lexer": "ipython3",
   "version": "3.12.7"
  }
 },
 "nbformat": 4,
 "nbformat_minor": 5
}
