{
 "cells": [
  {
   "cell_type": "code",
   "execution_count": 1,
   "id": "067d4682-292b-45f6-aff0-157a232a844a",
   "metadata": {},
   "outputs": [
    {
     "data": {
      "text/plain": [
       "int"
      ]
     },
     "execution_count": 1,
     "metadata": {},
     "output_type": "execute_result"
    }
   ],
   "source": [
    "R=7\n",
    "type(R)"
   ]
  },
  {
   "cell_type": "code",
   "execution_count": 5,
   "id": "7cd8a019-e100-4417-8cc9-5d58505a93be",
   "metadata": {},
   "outputs": [
    {
     "data": {
      "text/plain": [
       "float"
      ]
     },
     "execution_count": 5,
     "metadata": {},
     "output_type": "execute_result"
    }
   ],
   "source": [
    "W=1.7\n",
    "type(W)"
   ]
  },
  {
   "cell_type": "code",
   "execution_count": 9,
   "id": "7d7c4ff7-0515-40af-b182-dad777c0b2f2",
   "metadata": {},
   "outputs": [
    {
     "data": {
      "text/plain": [
       "str"
      ]
     },
     "execution_count": 9,
     "metadata": {},
     "output_type": "execute_result"
    }
   ],
   "source": [
    "name=\"Rayhanah\"\n",
    "type (name)"
   ]
  },
  {
   "cell_type": "code",
   "execution_count": 17,
   "id": "e5d3a3e8-8479-4920-b059-4372b2c1ae1d",
   "metadata": {},
   "outputs": [
    {
     "data": {
      "text/plain": [
       "bool"
      ]
     },
     "execution_count": 17,
     "metadata": {},
     "output_type": "execute_result"
    }
   ],
   "source": [
    "is_active=True\n",
    "type(is_active)"
   ]
  },
  {
   "cell_type": "code",
   "execution_count": 21,
   "id": "892d33b0-b030-4157-9ca9-f9a30a746c49",
   "metadata": {},
   "outputs": [
    {
     "name": "stdout",
     "output_type": "stream",
     "text": [
      "a + b = 2002\n",
      "2000 + 2 = 2002\n"
     ]
    }
   ],
   "source": [
    "a=2000\n",
    "b=2\n",
    "r=a+b\n",
    "print(f\"a + b = {r}\")\n",
    "r=2000+2\n",
    "print(f\"2000 + 2 = {r}\")"
   ]
  },
  {
   "cell_type": "code",
   "execution_count": 23,
   "id": "adb39ed6-80c6-46ca-9fce-7aa5d42217e4",
   "metadata": {},
   "outputs": [
    {
     "data": {
      "text/plain": [
       "False"
      ]
     },
     "execution_count": 23,
     "metadata": {},
     "output_type": "execute_result"
    }
   ],
   "source": [
    "#Comparison\n",
    "a=2000\n",
    "b=2\n",
    "b>a"
   ]
  },
  {
   "cell_type": "code",
   "execution_count": 25,
   "id": "72c4a2ef-9835-42ad-b5d5-f42527f06af8",
   "metadata": {},
   "outputs": [
    {
     "data": {
      "text/plain": [
       "True"
      ]
     },
     "execution_count": 25,
     "metadata": {},
     "output_type": "execute_result"
    }
   ],
   "source": [
    "#Logical\n",
    "a=70\n",
    "b=9\n",
    "(a>b)and(70>=9)"
   ]
  },
  {
   "cell_type": "code",
   "execution_count": 33,
   "id": "527224e9-2cc7-4ec4-ac8e-931683eba698",
   "metadata": {},
   "outputs": [
    {
     "data": {
      "text/plain": [
       "False"
      ]
     },
     "execution_count": 33,
     "metadata": {},
     "output_type": "execute_result"
    }
   ],
   "source": [
    "a!=b"
   ]
  },
  {
   "cell_type": "code",
   "execution_count": 37,
   "id": "54ba5812-2dd2-4f32-a7c5-712801bd8005",
   "metadata": {},
   "outputs": [
    {
     "data": {
      "text/plain": [
       "False"
      ]
     },
     "execution_count": 37,
     "metadata": {},
     "output_type": "execute_result"
    }
   ],
   "source": [
    "a=20\n",
    "b=20\n",
    "(a>b)and(20<=20)"
   ]
  },
  {
   "cell_type": "code",
   "execution_count": 45,
   "id": "eb3b6308-53d4-491d-b152-8412fc00b764",
   "metadata": {},
   "outputs": [
    {
     "data": {
      "text/plain": [
       "True"
      ]
     },
     "execution_count": 45,
     "metadata": {},
     "output_type": "execute_result"
    }
   ],
   "source": [
    "a=20\n",
    "b=20\n",
    "(a<b)or(20<=20)"
   ]
  },
  {
   "cell_type": "code",
   "execution_count": 47,
   "id": "420a79cd-e4d7-49b1-9b8f-13da958b68a6",
   "metadata": {},
   "outputs": [
    {
     "data": {
      "text/plain": [
       "False"
      ]
     },
     "execution_count": 47,
     "metadata": {},
     "output_type": "execute_result"
    }
   ],
   "source": [
    "a=20\n",
    "b=20\n",
    "not (20==20)"
   ]
  },
  {
   "cell_type": "code",
   "execution_count": 55,
   "id": "4a4689ba-0f68-43d3-ba92-c619eed5da9c",
   "metadata": {},
   "outputs": [
    {
     "name": "stdout",
     "output_type": "stream",
     "text": [
      "r is greater than 20\n"
     ]
    }
   ],
   "source": [
    "#if _ elif _ else\n",
    "r=23\n",
    "if r<=10:\n",
    "    print(\"r is less than 10\")\n",
    "\n",
    "elif r>20:\n",
    "    print(\"r is greater than 20\") \n",
    "else:\n",
    "     print(\"r is less than 20\")"
   ]
  },
  {
   "cell_type": "code",
   "execution_count": 57,
   "id": "8b3ffc4a-6d1b-49e3-b6b4-f21fca1b433c",
   "metadata": {},
   "outputs": [
    {
     "name": "stdout",
     "output_type": "stream",
     "text": [
      "r is greater than 10\n"
     ]
    }
   ],
   "source": [
    "#if _ else\n",
    "r=23\n",
    "if r<=10:\n",
    "    print(\"r is less than 10\")\n",
    "\n",
    "else:\n",
    "     print(\"r is greater than 10\")"
   ]
  },
  {
   "cell_type": "code",
   "execution_count": 61,
   "id": "9c3a8725-4858-4700-a073-abcefcd3463c",
   "metadata": {},
   "outputs": [
    {
     "name": "stdout",
     "output_type": "stream",
     "text": [
      "r is equal than 23\n"
     ]
    }
   ],
   "source": [
    "r=23\n",
    "if r<=23:\n",
    "    print(\"r is equal than 23\")"
   ]
  },
  {
   "cell_type": "code",
   "execution_count": 3,
   "id": "3c6d874d-9dca-4d9d-80c3-d60d6c628616",
   "metadata": {},
   "outputs": [
    {
     "name": "stdout",
     "output_type": "stream",
     "text": [
      "0\n",
      "1\n",
      "2\n",
      "3\n",
      "4\n",
      "5\n",
      "6\n"
     ]
    }
   ],
   "source": [
    "#for loop\n",
    "for t in range (7):\n",
    "    print(t)"
   ]
  },
  {
   "cell_type": "code",
   "execution_count": 3,
   "id": "0c8a75aa-9d33-4ae6-9e57-43f7dc8e03e7",
   "metadata": {},
   "outputs": [
    {
     "name": "stdout",
     "output_type": "stream",
     "text": [
      "4\n",
      "7\n",
      "10\n",
      "13\n"
     ]
    }
   ],
   "source": [
    "#while loop\n",
    "count = 4\n",
    "while count<15:\n",
    "    print(count)\n",
    "    count += 3"
   ]
  },
  {
   "cell_type": "code",
   "execution_count": 3,
   "id": "bd1cc4ef-f679-4283-9696-936847891c23",
   "metadata": {},
   "outputs": [],
   "source": [
    "def function1(name):\n",
    "    print(f\"Hello, {name}!\") "
   ]
  },
  {
   "cell_type": "code",
   "execution_count": 5,
   "id": "881526f8-88cb-4a07-b5ce-0e9702efddc3",
   "metadata": {},
   "outputs": [
    {
     "name": "stdout",
     "output_type": "stream",
     "text": [
      "Hello, Rayhanah!\n"
     ]
    }
   ],
   "source": [
    "function1(\"Rayhanah\") "
   ]
  },
  {
   "cell_type": "code",
   "execution_count": 11,
   "id": "32100ec4-4374-4836-8ec3-b818ed1d4bcc",
   "metadata": {},
   "outputs": [
    {
     "name": "stdin",
     "output_type": "stream",
     "text": [
      " enyer the number : 7\n"
     ]
    },
    {
     "name": "stdout",
     "output_type": "stream",
     "text": [
      " 1 X 7 = 7\n",
      " 2 X 7 = 14\n",
      " 3 X 7 = 21\n",
      " 4 X 7 = 28\n",
      " 5 X 7 = 35\n",
      " 6 X 7 = 42\n",
      " 7 X 7 = 49\n",
      " 8 X 7 = 56\n",
      " 9 X 7 = 63\n",
      " 10 X 7 = 70\n"
     ]
    }
   ],
   "source": [
    "#جدول الضرب\n",
    "num1=int(input(\" enyer the number :\"))\n",
    "for i in range(1,11):\n",
    "    print (f\" {i} X {num1} = {i*num1}\")\n",
    "\n"
   ]
  },
  {
   "cell_type": "code",
   "execution_count": 18,
   "id": "f8f107ef-a651-47f6-bb69-576fff77adf3",
   "metadata": {},
   "outputs": [
    {
     "name": "stdin",
     "output_type": "stream",
     "text": [
      "Enter the first number:  40\n",
      "Enter the operation (+, -, *, /):  /\n",
      "Enter the second number:  4\n"
     ]
    },
    {
     "name": "stdout",
     "output_type": "stream",
     "text": [
      "Result: 10.0\n"
     ]
    }
   ],
   "source": [
    "#آله حاسبة\n",
    "def calculator():\n",
    "    num1 = float(input(\"Enter the first number: \"))\n",
    "    operator = input(\"Enter the operation (+, -, *, /): \")\n",
    "    num2 = float(input(\"Enter the second number: \"))\n",
    "\n",
    "    if operator == '+':\n",
    "        print(f\"Result: {num1 + num2}\")\n",
    "    elif operator == '-':\n",
    "        print(f\"Result: {num1 - num2}\")\n",
    "    elif operator == '*':\n",
    "        print(f\"Result: {num1 * num2}\")\n",
    "    elif operator == '/':\n",
    "        if num2 != 0:\n",
    "            print(f\"Result: {num1 / num2}\")\n",
    "        else:\n",
    "            print(\"Division by zero is not allowed!\")\n",
    "    else:\n",
    "        print(\"Invalid operation!\")\n",
    "\n",
    "calculator()\n"
   ]
  },
  {
   "cell_type": "code",
   "execution_count": 28,
   "id": "94ec8e3d-70d4-481d-9cab-6c5875a2063b",
   "metadata": {},
   "outputs": [
    {
     "name": "stdin",
     "output_type": "stream",
     "text": [
      "Enter the first number:  20\n",
      "Enter the operation (+, -, *, /):  -\n",
      "Enter the second number:  30\n"
     ]
    },
    {
     "name": "stdout",
     "output_type": "stream",
     "text": [
      "Result: -10.0\n"
     ]
    }
   ],
   "source": [
    "#لمعرفة اذا كان العدد سالب ام موجب\n",
    "def check_number():\n",
    "    num = float(input(\"Enter a number: \"))\n",
    "\n",
    "    if num > 0:\n",
    "        print(\"The number is Positive \")\n",
    "    elif num < 0:\n",
    "        print(\"The number is Negative \")\n",
    "    else:\n",
    "        print(\"The number is Zero \")\n",
    "\n",
    "calculator()"
   ]
  },
  {
   "cell_type": "code",
   "execution_count": 24,
   "id": "eece5f24-10b2-4c75-8f14-090cf499df4b",
   "metadata": {},
   "outputs": [
    {
     "name": "stdin",
     "output_type": "stream",
     "text": [
      "Enter a number:  9\n"
     ]
    },
    {
     "name": "stdout",
     "output_type": "stream",
     "text": [
      "9 is an Odd number \n"
     ]
    }
   ],
   "source": [
    "#لمعرفة العدد اذا كان فردي ام زوجي\n",
    "def even_or_odd():\n",
    "    num = int(input(\"Enter a number: \"))\n",
    "\n",
    "    if num % 2 == 0:\n",
    "        print(f\"{num} is an Even number \")\n",
    "    else:\n",
    "        print(f\"{num} is an Odd number \")\n",
    "\n",
    "even_or_odd()"
   ]
  },
  {
   "cell_type": "code",
   "execution_count": 26,
   "id": "ca2494e5-79c4-4d25-ae6d-4010b2331a11",
   "metadata": {},
   "outputs": [
    {
     "name": "stdin",
     "output_type": "stream",
     "text": [
      "Enter a number:  90\n"
     ]
    },
    {
     "name": "stdout",
     "output_type": "stream",
     "text": [
      "90 is an Even number \n"
     ]
    }
   ],
   "source": [
    "#2لمعرفة العدد اذا كان فردي ام زوجي\n",
    "def even_or_odd():\n",
    "    num = int(input(\"Enter a number: \"))\n",
    "\n",
    "    if num % 2 == 0:\n",
    "        print(f\"{num} is an Even number \")\n",
    "    else:\n",
    "        print(f\"{num} is an Odd number \")\n",
    "\n",
    "even_or_odd()"
   ]
  },
  {
   "cell_type": "code",
   "execution_count": null,
   "id": "98f0df7b-b438-4735-8d6f-63517987d92d",
   "metadata": {},
   "outputs": [],
   "source": []
  }
 ],
 "metadata": {
  "kernelspec": {
   "display_name": "Python [conda env:base] *",
   "language": "python",
   "name": "conda-base-py"
  },
  "language_info": {
   "codemirror_mode": {
    "name": "ipython",
    "version": 3
   },
   "file_extension": ".py",
   "mimetype": "text/x-python",
   "name": "python",
   "nbconvert_exporter": "python",
   "pygments_lexer": "ipython3",
   "version": "3.12.7"
  }
 },
 "nbformat": 4,
 "nbformat_minor": 5
}
